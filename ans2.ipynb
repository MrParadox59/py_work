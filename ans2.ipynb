{
  "nbformat": 4,
  "nbformat_minor": 0,
  "metadata": {
    "colab": {
      "name": "ans2.ipynb",
      "provenance": [],
      "authorship_tag": "ABX9TyOpM+ZTgIVzfVktXX8IenS4",
      "include_colab_link": true
    },
    "kernelspec": {
      "name": "python3",
      "display_name": "Python 3"
    }
  },
  "cells": [
    {
      "cell_type": "markdown",
      "metadata": {
        "id": "view-in-github",
        "colab_type": "text"
      },
      "source": [
        "<a href=\"https://colab.research.google.com/github/MrParadox59/py_work/blob/master/ans2.ipynb\" target=\"_parent\"><img src=\"https://colab.research.google.com/assets/colab-badge.svg\" alt=\"Open In Colab\"/></a>"
      ]
    },
    {
      "cell_type": "code",
      "metadata": {
        "id": "VncEndxBXg4Y",
        "colab_type": "code",
        "colab": {}
      },
      "source": [
        "print(\"задача 316а\")\n",
        "string = \"Колод ец авпавд авп ад\"\n",
        "words = []\n",
        "i = 0\n",
        "while i < len(string) and string[i] != \" \":\n",
        "    word = \"\" \n",
        "    while i < len(string) and string[i] != \" \": \n",
        "        word += string[i]\n",
        "        i =  i + 1\n",
        "    words.append(word)\n",
        "    i = i + 1\n",
        "for word in words:\n",
        "    if word[len(word)-1] == 'д':\n",
        "      print(word)"
      ],
      "execution_count": 0,
      "outputs": []
    },
    {
      "cell_type": "code",
      "metadata": {
        "id": "g7eeSPGKmOZN",
        "colab_type": "code",
        "colab": {}
      },
      "source": [
        "print(\"задача 369\")\n",
        "n=10\n",
        "m=12\n",
        "mas = [[0] * m for i in range(n)]\n",
        "for i in range(0,n):\n",
        "    for j in range(0,m):\n",
        "        mas[i][j]=i+2*j\n",
        "print(mas)"
      ],
      "execution_count": 0,
      "outputs": []
    },
    {
      "cell_type": "code",
      "metadata": {
        "id": "isMOtXEyuUuk",
        "colab_type": "code",
        "colab": {}
      },
      "source": [
        "print(\"задача 1014\")\n",
        "import random\n",
        "N=5\n",
        "matrix=[[random.randrange(25) for i in range(N)] for j in range(N)]\n",
        "print(matrix)\n",
        "def is_magic_square(matrix, S, N):\n",
        "    return (all(sum(row) == S for row in matrix)\n",
        "            and all(sum(column) == S for column in zip(*matrix))\n",
        "            and sum(matrix[i][i] for i in range(N)) == S\n",
        "            and sum(matrix[i][N-1-i] for i in range(N)) == S\n",
        "            and set(x for row in matrix for x in row) == set(range(1, N**2 + 1)))\n",
        "print('True' if is_magic_square(matrix, sum(matrix[0]), N) else 'False')"
      ],
      "execution_count": 0,
      "outputs": []
    },
    {
      "cell_type": "code",
      "metadata": {
        "id": "p_8LHXTH9pBA",
        "colab_type": "code",
        "colab": {}
      },
      "source": [
        "print(\"задача 435\")\n",
        "import random\n",
        "q = False\n",
        "qb = False\n",
        "sr = False\n",
        "srb = False\n",
        "n = int(input(\"Введите n: \"))\n",
        "m = int(input(\"Введите m: \"))\n",
        "k = int(input(\"Введите k: \"))\n",
        "a = [random.randrange(0,25) for i in range(n)]\n",
        "b = [random.randrange(0,25) for i in range(m)]\n",
        "for i in a:\n",
        "  if i == k:\n",
        "    q = True\n",
        "for i in b:\n",
        "  if i == 10:\n",
        "    qb = True\n",
        "print('a =',a)\n",
        "if q == False:\n",
        "   for i in range(len(a)):\n",
        "     min = a[i]\n",
        "     for j in range(len(a)):\n",
        "       if min > a[j]:\n",
        "         a[i] = k\n",
        "         sr = True\n",
        "         break\n",
        "     if sr == True:\n",
        "       break\n",
        "print('b =',b)\n",
        "if qb == False:\n",
        "   for i in range(len(b)):\n",
        "     min = b[i]\n",
        "     for j in range(len(b)):\n",
        "       if min > b[j]:\n",
        "         b[i] = 10\n",
        "         srb = True\n",
        "         break\n",
        "     if srb == True:\n",
        "       break\n",
        "print(\"Ответ\")       \n",
        "print('a =',a)        \n",
        "print('b =',b)                                 "
      ],
      "execution_count": 0,
      "outputs": []
    },
    {
      "cell_type": "code",
      "metadata": {
        "id": "dcuUSwsar6_d",
        "colab_type": "code",
        "colab": {}
      },
      "source": [
        "import math\n",
        "import random\n",
        "print(\"задача 136в\")\n",
        "n = int(input(\"Введите длину последовательности n: \"))\n",
        "a = [random.randrange(-25,25) for i in range(n)]\n",
        "b=0\n",
        "print(a)\n",
        "for i in range(len(a)):\n",
        "    b+=abs(a[i])\n",
        "print(\"Ответ:\",b)"
      ],
      "execution_count": 0,
      "outputs": []
    },
    {
      "cell_type": "code",
      "metadata": {
        "id": "oh5H9eV3EdQn",
        "colab_type": "code",
        "colab": {}
      },
      "source": [
        "#странно работает \n",
        "print(\"задача 832\")\n",
        "import calendar\n",
        "n = int(input(\"Введите год: \"))\n",
        "for month in range(1, 13):\n",
        "    mycal = calendar.monthcalendar(n, month)\n",
        "    week4 = mycal[4]\n",
        "    if week4[calendar.THURSDAY] != 0:\n",
        "      auditday = week4[calendar.THURSDAY]\n",
        "    print(\"%10s %2d\" % (calendar.month_name[month], auditday))     "
      ],
      "execution_count": 0,
      "outputs": []
    },
    {
      "cell_type": "code",
      "metadata": {
        "id": "WhJu4FIapjFs",
        "colab_type": "code",
        "colab": {}
      },
      "source": [
        "print(\"задача 832\")\n",
        "import datetime\n",
        "n = int(input(\"Введите год: \"))\n",
        "days=[31,28,31,30,31,30,31,31,30,31,30,31]\n",
        "months=['январь','февраль','март','апрель','май','июнь','июль','август','сентябрь','октябрь','ноябрь','декабрь']\n",
        "if not(n % 4 != 0 or(n % 100 == 0 and n % 400 != 0)):\n",
        "  days[1] = 29\n",
        "i = 1\n",
        "while i < 13:\n",
        "  for j in range(7):\n",
        "    day=datetime.date(n,i,days[i - 1] - j)\n",
        "    if day.isoweekday() == 4: \n",
        "      print(day.day,' ',months[i - 1]) \n",
        "  i += 1    "
      ],
      "execution_count": 0,
      "outputs": []
    }
  ]
}