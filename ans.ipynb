{
  "nbformat": 4,
  "nbformat_minor": 0,
  "metadata": {
    "colab": {
      "name": "ans.ipynb",
      "provenance": [],
      "authorship_tag": "ABX9TyPqh2sipXgAvVMoeW0xt0BE",
      "include_colab_link": true
    },
    "kernelspec": {
      "name": "python3",
      "display_name": "Python 3"
    }
  },
  "cells": [
    {
      "cell_type": "markdown",
      "metadata": {
        "id": "view-in-github",
        "colab_type": "text"
      },
      "source": [
        "<a href=\"https://colab.research.google.com/github/MrParadox59/py_work/blob/master/ans.ipynb\" target=\"_parent\"><img src=\"https://colab.research.google.com/assets/colab-badge.svg\" alt=\"Open In Colab\"/></a>"
      ]
    },
    {
      "cell_type": "code",
      "metadata": {
        "id": "k3Tk96XowCJB",
        "colab_type": "code",
        "colab": {}
      },
      "source": [
        "from math import sqrt\n",
        "print(\"Задача 4\")\n",
        "print(\"Введите положительное а\")\n",
        "a=float(input())\n",
        "print(\"Введите положительное b\")\n",
        "b=float(input())\n",
        "c=(a+b)/2\n",
        "d=sqrt(a*b)\n",
        "print(\"среднее арифметическое =\",c)\n",
        "print(\"среднее геометрическое =\",d)"
      ],
      "execution_count": 0,
      "outputs": []
    },
    {
      "cell_type": "code",
      "metadata": {
        "id": "1x9cBcWxQNUt",
        "colab_type": "code",
        "colab": {}
      },
      "source": [
        "print(\"Задача 58а\")\n",
        "print(\"Введите а\")\n",
        "a=int(input())\n",
        "if(a<0):y=-a\n",
        "else:y=-a**2\n",
        "print(\"Ответ =\",y)"
      ],
      "execution_count": 0,
      "outputs": []
    },
    {
      "cell_type": "code",
      "metadata": {
        "id": "ffV9tJesUGBJ",
        "colab_type": "code",
        "colab": {}
      },
      "source": [
        "print(\"Задача 58б\")\n",
        "print(\"Введите а\") \n",
        "a=int(input())\n",
        "if(a<-1):y=1/a**2\n",
        "elif(a<2):y=a**2\n",
        "else:y=4\n",
        "print(\"Ответ =\",y)"
      ],
      "execution_count": 0,
      "outputs": []
    },
    {
      "cell_type": "code",
      "metadata": {
        "id": "KCJR1kJS4qwe",
        "colab_type": "code",
        "colab": {}
      },
      "source": [
        "print(\"Задача 58в\")\n",
        "print(\"Введите а\") \n",
        "a=int(input())\n",
        "if(a<-1):y=-a-1\n",
        "elif(a<0):y=0\n",
        "elif(a<1):y=1\n",
        "else:y=a-1\n",
        "print(\"Ответ =\",y)"
      ],
      "execution_count": 0,
      "outputs": []
    },
    {
      "cell_type": "code",
      "metadata": {
        "id": "RAHRyB-XZ0AQ",
        "colab_type": "code",
        "colab": {}
      },
      "source": [
        "print(\"Задача 58г\")\n",
        "print(\"Введите а\")\n",
        "a=int(input())\n",
        "if(a<0):y=-a\n",
        "elif(a<1):y=a\n",
        "elif(a<2):y=1\n",
        "else:y=5 - 2*a\n",
        "print(\"Ответ =\",y)"
      ],
      "execution_count": 0,
      "outputs": []
    },
    {
      "cell_type": "code",
      "metadata": {
        "id": "lmNTbayCErEi",
        "colab_type": "code",
        "colab": {}
      },
      "source": [
        "print(\"Задача 120a\")\n",
        "%matplotlib inline\n",
        "import matplotlib.pyplot as plt\n",
        "plt.plot((100, 150, 80, 100), (100, 100, 170, 100))\n",
        "plt.show()"
      ],
      "execution_count": 0,
      "outputs": []
    },
    {
      "cell_type": "code",
      "metadata": {
        "id": "aI_If0XpIQRW",
        "colab_type": "code",
        "colab": {}
      },
      "source": [
        "print(\"Задача 120б\")\n",
        "%matplotlib inline\n",
        "import matplotlib.pyplot as plt\n",
        "plt.plot((80, 170, 170, 80, 80), (80, 80, 150, 150, 80))\n",
        "plt.show()"
      ],
      "execution_count": 0,
      "outputs": []
    },
    {
      "cell_type": "code",
      "metadata": {
        "id": "8zlZk3bvIjXE",
        "colab_type": "code",
        "colab": {}
      },
      "source": [
        "print(\"Задача 120в\")\n",
        "%matplotlib inline\n",
        "import matplotlib.pyplot as plt\n",
        "plt.plot((100, 150, 170, 150, 100,100), (100, 100, 120, 140, 140,100))\n",
        "plt.show()"
      ],
      "execution_count": 0,
      "outputs": []
    },
    {
      "cell_type": "code",
      "metadata": {
        "id": "LdP07ugfJLsy",
        "colab_type": "code",
        "colab": {}
      },
      "source": [
        "print(\"Задача 120г\")\n",
        "%matplotlib inline\n",
        "import matplotlib.pyplot as plt\n",
        "plt.plot((120, 140, 140, 120, 100,100,120), (100, 120, 140, 160, 140,120,100))\n",
        "plt.show()"
      ],
      "execution_count": 0,
      "outputs": []
    },
    {
      "cell_type": "code",
      "metadata": {
        "id": "VXM3LJLF0cFQ",
        "colab_type": "code",
        "colab": {}
      },
      "source": [
        "print(\"Задача 63\")\n",
        "print(\"Введите положительное а\")\n",
        "a=int(input())\n",
        "print(\"Введите положительное b\")\n",
        "b=int(input())\n",
        "print(\"Введите положительное r\")\n",
        "r=int(input())\n",
        "print(\"Введите положительное s\")\n",
        "s=int(input())\n",
        "if(a%b==r or a%b==s): print(\"Верно\")\n",
        "else: print(\"Неверно\")"
      ],
      "execution_count": 0,
      "outputs": []
    },
    {
      "cell_type": "code",
      "metadata": {
        "id": "_8bx40VYg9yi",
        "colab_type": "code",
        "colab": {}
      },
      "source": [
        "import math\n",
        "print(\"Задача 77б\")\n",
        "print(\"Введите положительное n\")\n",
        "n=int(input())\n",
        "a=math.factorial(n)\n",
        "print (\"факториал\",n,\"=\",a)"
      ],
      "execution_count": 0,
      "outputs": []
    },
    {
      "cell_type": "code",
      "metadata": {
        "id": "lyfi5Y-zcoAC",
        "colab_type": "code",
        "colab": {}
      },
      "source": [
        "import matplotlib.pyplot as plt\n",
        "print(\"Задача 124\")\n",
        "plt.bar([1],[20])\n",
        "plt.bar([2],[18])\n",
        "plt.bar([3],[22])\n",
        "plt.bar([4],[23])\n",
        "plt.bar([5],[3])\n",
        "plt.bar([6],[12])\n",
        "plt.bar([7],[9])\n",
        "plt.show()"
      ],
      "execution_count": 0,
      "outputs": []
    },
    {
      "cell_type": "code",
      "metadata": {
        "id": "CQGqbeHWFJ0m",
        "colab_type": "code",
        "colab": {}
      },
      "source": [
        "import math\n",
        "print(\"Задача 178д\")\n",
        "print(\"Укажите длину последовательности\")\n",
        "n=int(input())\n",
        "a = [0] * n\n",
        "for i in range(len(a)):\n",
        "    i = str(i + 1)\n",
        "    print(\"Введите элемент последовательности \" + i, end = \" \")\n",
        "    i = int(i)\n",
        "    i = i - 1\n",
        "    a[i] = int(input())\n",
        "k=0\n",
        "for i in range(len(a)):\n",
        "    if(2**i<a[i]<math.factorial(i)):k=k+1\n",
        "print(\"количество ak =\",k)"
      ],
      "execution_count": 0,
      "outputs": []
    },
    {
      "cell_type": "code",
      "metadata": {
        "id": "JXoxnPsTX5Hc",
        "colab_type": "code",
        "colab": {}
      },
      "source": [
        "import math\n",
        "print(\"Задача 139в\")\n",
        "print(\"Укажите длину последовательности\")\n",
        "n=int(input())\n",
        "print(\"Ответ\") \n",
        "b = [0] * n\n",
        "for i in range(len(b)):\n",
        "    b[i]=math.factorial(i+1)\n",
        "for i in range(len(b)): \n",
        "    print(b[i])"
      ],
      "execution_count": 0,
      "outputs": []
    },
    {
      "cell_type": "code",
      "metadata": {
        "id": "BGGpTRDudsmc",
        "colab_type": "code",
        "colab": {}
      },
      "source": [
        "from tkinter import *\n",
        "from tkinter.ttk import *\n",
        "from time import strftime\n",
        "root = Tk()\n",
        "root.title('Clock')\n",
        "def time():\n",
        "  string = strftime('%H:%M:%S %p')\n",
        "  lbl.config(text = string)\n",
        "  lbl.after(1000, time)\n",
        "  lbl = Label(root, font = ('calibri', 40, 'bold'),\n",
        "  background = 'red',\n",
        "  foreground = 'white')\n",
        "  lbl.pack(anchor = 'center')\n",
        "time()\n",
        "mainloop()"
      ],
      "execution_count": 0,
      "outputs": []
    },
    {
      "cell_type": "code",
      "metadata": {
        "id": "Na6Ol2SypNvS",
        "colab_type": "code",
        "colab": {}
      },
      "source": [
        "print(\"Задача 208а\")\n",
        "print(\"Укажите длину последовательности\")\n",
        "n=int(input())\n",
        "a = [0] * n\n",
        "for i in range(len(a)):\n",
        "    i = str(i + 1)\n",
        "    print(\"Введите элемент последовательности \" + i, end = \" \")\n",
        "    i = int(i)\n",
        "    i = i - 1\n",
        "    a[i] = int(input())\n",
        "if(a[1]%2==0):m=a[1]\n",
        "else:m=a[1]-1\n",
        "for i in range(len(a)):\n",
        "    if(a[i]%2==0):\n",
        "      if(a[i]<m):m=a[i] \n",
        "print(\"Ответ\",m)"
      ],
      "execution_count": 0,
      "outputs": []
    },
    {
      "cell_type": "code",
      "metadata": {
        "id": "nCulA6qP3qYe",
        "colab_type": "code",
        "colab": {}
      },
      "source": [
        "print(\"Задача 257в\")\n",
        "test1='dиflgvdjrngшжгнеапм!!!!!!!!!!!'\n",
        "test2='ы!!!!!!!!!!!!тважпджлньвапжыышыаыыыыиыы'\n",
        "def f(s):\n",
        "    s=set(s[:s.index('!')])\n",
        "    sh=set('шина')\n",
        "    return not bool(sh-s)\n",
        "print(f(test1),f(test2))"
      ],
      "execution_count": 0,
      "outputs": []
    },
    {
      "cell_type": "code",
      "metadata": {
        "id": "kkPgUS7dEGSO",
        "colab_type": "code",
        "colab": {}
      },
      "source": [
        "print(\"Задача 173\")\n",
        "from tkinter import *\n",
        "import random\n",
        "window = Tk()\n",
        "window.title(\"Прямоугольник\")\n",
        "can = Canvas(window, width = 400, height = 400, bg = 'white')\n",
        "can.pack()\n",
        "n = int(input(\"Введите натуральное число n: \"))\n",
        "arr = [random.randint(0, 300) for i in range(n)]\n",
        "i = 0\n",
        "while i < len(arr):\n",
        "    if (i % 4 == 0) and (i+4 < len(arr)):\n",
        "        x1 = arr[i] - (arr[i+2] / 2)\n",
        "        y1 = arr[i+1] - (arr[i+3] / 2)\n",
        "        x2 = arr[i] + arr[i+2] / 2\n",
        "        y2 = arr[i+1] + arr[i+3] / 2\n",
        "        can.create_rectangle(x1, y1, x2, y2, fill = 'green')\n",
        "    i += 1\n",
        "window.mainloop()"
      ],
      "execution_count": 0,
      "outputs": []
    }
  ]
}